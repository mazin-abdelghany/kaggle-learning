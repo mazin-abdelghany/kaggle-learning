{
 "cells": [
  {
   "cell_type": "markdown",
   "metadata": {},
   "source": [
    "# Titanic Dataset Survival Prediction\n",
    "The below is a short analysis of the Titanic data set available on Kaggle.com. There are two main goals of this analysis:\n",
    "1. To create a simple logistic regression model to predict survival.\n",
    "2. To assess how different methods of imputation of the `Age` variable affect model performance.\n",
    "\n",
    "## Table of contents:\n",
    "<ol type=\"I\">\n",
    "    <li><a href=#information-about-the-data>Information about the data</a></li>\n",
    "    <li><a href=#data-dictionary>Data dictionary</a></li>\n",
    "    <li><a href=#variable-notes>Variable notes</a></li>\n",
    "    <li><a href=#analysis-start>Analysis start</a></li>\n",
    "    <ol type='i'>\n",
    "        <li><a href=#assess-for-missing-data-using-aeaborns-heatmap>Assess for missing data</a></li>\n",
    "        <li><a href=#clean-the-data-set>Clean the data set</a></li>\n",
    "        <li><a href=#reassess-missingness>Reassess missingness</a></li>\n",
    "        <li><a href=#different-imputation-methods>Different imputation methods</a></li>\n",
    "        <ol type=\"a\">\n",
    "            <li><a href=#simple-mean-imputation>Simple mean imputation</a></li>\n",
    "            <li><a href=#imputation-by-mean-age-stratified-by-class>Imputation by mean age stratified by class</a></li>\n",
    "            <li><a href=#knn-imputation>KNN imputation</a></li>\n",
    "            <li><a href=#multivariate-feature-imputation>Multivariate feature imputation</a></li>\n",
    "        </ol>\n",
    "        <li><a href=#start-model-building>Start model building</a></li>\n",
    "        <li><a href=#logistic-regression-models>Logistic regression models</a></li>\n",
    "    </ol>\n",
    "</ol>"
   ]
  },
  {
   "cell_type": "markdown",
   "metadata": {},
   "source": [
    "Import the required libraries"
   ]
  },
  {
   "cell_type": "code",
   "execution_count": 46,
   "metadata": {},
   "outputs": [],
   "source": [
    "import numpy as np\n",
    "import pandas as pd\n",
    "import matplotlib.pyplot as plt\n",
    "import seaborn as sns"
   ]
  },
  {
   "cell_type": "markdown",
   "metadata": {},
   "source": [
    "Generate inline figures."
   ]
  },
  {
   "cell_type": "code",
   "execution_count": 47,
   "metadata": {},
   "outputs": [],
   "source": [
    "%matplotlib inline"
   ]
  },
  {
   "cell_type": "markdown",
   "metadata": {},
   "source": [
    "## Information about the data<a id=\"information-about-the-data\"></a>\n",
    "\n",
    "> The below text is adapted from the Kaggle Titanic Competition.\n",
    "\n",
    "The data has been split into two groups:\n",
    "- training set (`train.csv`)\n",
    "- test set (`test.csv`)\n",
    "\n",
    "The training will be used to build the below machine learning model. It contains the outcome information (also known as the “ground truth”) for each passenger. \n",
    "\n",
    "The test will be used to assess model performance. The test set does not include the ground truth for each passenger. The trained model will predict whether or not a passenger survived."
   ]
  },
  {
   "cell_type": "markdown",
   "metadata": {},
   "source": [
    "## Data dictionary<a id=\"data-dictionary\"></a>  \n",
    "\n",
    "| Variable |                 Definition                 |                       Key                      |\n",
    "|:--------:|:------------------------------------------:|:----------------------------------------------:|\n",
    "| survival | Survival                                   | 0 = No, 1 = Yes                                |\n",
    "| pclass   | Ticket class                               | 1 = 1st, 2 = 2nd, 3 = 3rd                      |\n",
    "| sex      | Sex                                        |                                                |\n",
    "| Age      | Age in years                               |                                                |\n",
    "| sibsp    | # of siblings / spouses aboard the Titanic |                                                |\n",
    "| parch    | # of parents / children aboard the Titanic |                                                |\n",
    "| ticket   | Ticket number                              |                                                |\n",
    "| fare     | Passenger fare                             |                                                |\n",
    "| cabin    | Cabin number                               |                                                |\n",
    "| embarked | Port of Embarkation                        | C = Cherbourg, Q = Queenstown, S = Southampton |"
   ]
  },
  {
   "cell_type": "markdown",
   "metadata": {},
   "source": [
    "## Variable notes<a id=\"variable-notes\"></a>\n",
    "\n",
    "**pclass:** A proxy for socio-economic status (SES)\n",
    "- 1st = Upper\n",
    "- 2nd = Middle\n",
    "- 3rd = Lower\n",
    "\n",
    "**age:** \n",
    "- Fractional if less than 1. \n",
    "- If the age is estimated, is it in the form of xx.5\n",
    "\n",
    "**sibsp:** The dataset defines family relations in this way:\n",
    "- Sibling = brother, sister, stepbrother, stepsister\n",
    "- Spouse = husband, wife (mistresses and fiancés were ignored)\n",
    "\n",
    "**parch:** The dataset defines family relations in this way:\n",
    "- Parent = mother, father\n",
    "- Child = daughter, son, stepdaughter, stepson\n",
    "- Some children travelled only with a nanny, therefore parch=0 for them."
   ]
  },
  {
   "cell_type": "markdown",
   "metadata": {},
   "source": [
    "## Analysis start<a id=\"analysis-start\"></a>\n",
    "\n",
    "Read in the data."
   ]
  },
  {
   "cell_type": "code",
   "execution_count": 120,
   "metadata": {},
   "outputs": [],
   "source": [
    "titanic_train = pd.read_csv(\"train.csv\")\n",
    "titanic_test = pd.read_csv(\"test.csv\")"
   ]
  },
  {
   "cell_type": "markdown",
   "metadata": {},
   "source": [
    "Look at the data."
   ]
  },
  {
   "cell_type": "code",
   "execution_count": 49,
   "metadata": {},
   "outputs": [
    {
     "data": {
      "text/html": [
       "<div>\n",
       "<style scoped>\n",
       "    .dataframe tbody tr th:only-of-type {\n",
       "        vertical-align: middle;\n",
       "    }\n",
       "\n",
       "    .dataframe tbody tr th {\n",
       "        vertical-align: top;\n",
       "    }\n",
       "\n",
       "    .dataframe thead th {\n",
       "        text-align: right;\n",
       "    }\n",
       "</style>\n",
       "<table border=\"1\" class=\"dataframe\">\n",
       "  <thead>\n",
       "    <tr style=\"text-align: right;\">\n",
       "      <th></th>\n",
       "      <th>PassengerId</th>\n",
       "      <th>Survived</th>\n",
       "      <th>Pclass</th>\n",
       "      <th>Name</th>\n",
       "      <th>Sex</th>\n",
       "      <th>Age</th>\n",
       "      <th>SibSp</th>\n",
       "      <th>Parch</th>\n",
       "      <th>Ticket</th>\n",
       "      <th>Fare</th>\n",
       "      <th>Cabin</th>\n",
       "      <th>Embarked</th>\n",
       "    </tr>\n",
       "  </thead>\n",
       "  <tbody>\n",
       "    <tr>\n",
       "      <th>0</th>\n",
       "      <td>1</td>\n",
       "      <td>0</td>\n",
       "      <td>3</td>\n",
       "      <td>Braund, Mr. Owen Harris</td>\n",
       "      <td>male</td>\n",
       "      <td>22.0</td>\n",
       "      <td>1</td>\n",
       "      <td>0</td>\n",
       "      <td>A/5 21171</td>\n",
       "      <td>7.2500</td>\n",
       "      <td>NaN</td>\n",
       "      <td>S</td>\n",
       "    </tr>\n",
       "    <tr>\n",
       "      <th>1</th>\n",
       "      <td>2</td>\n",
       "      <td>1</td>\n",
       "      <td>1</td>\n",
       "      <td>Cumings, Mrs. John Bradley (Florence Briggs Th...</td>\n",
       "      <td>female</td>\n",
       "      <td>38.0</td>\n",
       "      <td>1</td>\n",
       "      <td>0</td>\n",
       "      <td>PC 17599</td>\n",
       "      <td>71.2833</td>\n",
       "      <td>C85</td>\n",
       "      <td>C</td>\n",
       "    </tr>\n",
       "  </tbody>\n",
       "</table>\n",
       "</div>"
      ],
      "text/plain": [
       "   PassengerId  Survived  Pclass  \\\n",
       "0            1         0       3   \n",
       "1            2         1       1   \n",
       "\n",
       "                                                Name     Sex   Age  SibSp  \\\n",
       "0                            Braund, Mr. Owen Harris    male  22.0      1   \n",
       "1  Cumings, Mrs. John Bradley (Florence Briggs Th...  female  38.0      1   \n",
       "\n",
       "   Parch     Ticket     Fare Cabin Embarked  \n",
       "0      0  A/5 21171   7.2500   NaN        S  \n",
       "1      0   PC 17599  71.2833   C85        C  "
      ]
     },
     "execution_count": 49,
     "metadata": {},
     "output_type": "execute_result"
    }
   ],
   "source": [
    "titanic_train.head(2)"
   ]
  },
  {
   "cell_type": "code",
   "execution_count": 50,
   "metadata": {},
   "outputs": [
    {
     "data": {
      "text/html": [
       "<div>\n",
       "<style scoped>\n",
       "    .dataframe tbody tr th:only-of-type {\n",
       "        vertical-align: middle;\n",
       "    }\n",
       "\n",
       "    .dataframe tbody tr th {\n",
       "        vertical-align: top;\n",
       "    }\n",
       "\n",
       "    .dataframe thead th {\n",
       "        text-align: right;\n",
       "    }\n",
       "</style>\n",
       "<table border=\"1\" class=\"dataframe\">\n",
       "  <thead>\n",
       "    <tr style=\"text-align: right;\">\n",
       "      <th></th>\n",
       "      <th>PassengerId</th>\n",
       "      <th>Pclass</th>\n",
       "      <th>Name</th>\n",
       "      <th>Sex</th>\n",
       "      <th>Age</th>\n",
       "      <th>SibSp</th>\n",
       "      <th>Parch</th>\n",
       "      <th>Ticket</th>\n",
       "      <th>Fare</th>\n",
       "      <th>Cabin</th>\n",
       "      <th>Embarked</th>\n",
       "    </tr>\n",
       "  </thead>\n",
       "  <tbody>\n",
       "    <tr>\n",
       "      <th>0</th>\n",
       "      <td>892</td>\n",
       "      <td>3</td>\n",
       "      <td>Kelly, Mr. James</td>\n",
       "      <td>male</td>\n",
       "      <td>34.5</td>\n",
       "      <td>0</td>\n",
       "      <td>0</td>\n",
       "      <td>330911</td>\n",
       "      <td>7.8292</td>\n",
       "      <td>NaN</td>\n",
       "      <td>Q</td>\n",
       "    </tr>\n",
       "    <tr>\n",
       "      <th>1</th>\n",
       "      <td>893</td>\n",
       "      <td>3</td>\n",
       "      <td>Wilkes, Mrs. James (Ellen Needs)</td>\n",
       "      <td>female</td>\n",
       "      <td>47.0</td>\n",
       "      <td>1</td>\n",
       "      <td>0</td>\n",
       "      <td>363272</td>\n",
       "      <td>7.0000</td>\n",
       "      <td>NaN</td>\n",
       "      <td>S</td>\n",
       "    </tr>\n",
       "  </tbody>\n",
       "</table>\n",
       "</div>"
      ],
      "text/plain": [
       "   PassengerId  Pclass                              Name     Sex   Age  SibSp  \\\n",
       "0          892       3                  Kelly, Mr. James    male  34.5      0   \n",
       "1          893       3  Wilkes, Mrs. James (Ellen Needs)  female  47.0      1   \n",
       "\n",
       "   Parch  Ticket    Fare Cabin Embarked  \n",
       "0      0  330911  7.8292   NaN        Q  \n",
       "1      0  363272  7.0000   NaN        S  "
      ]
     },
     "execution_count": 50,
     "metadata": {},
     "output_type": "execute_result"
    }
   ],
   "source": [
    "titanic_test.head(2)"
   ]
  },
  {
   "cell_type": "markdown",
   "metadata": {},
   "source": [
    "### Assess for missing data using Seaborn's heatmap\n",
    "<a id=\"assess-for-missing-data-using-aeaborns-heatmap\"></a>\n",
    "The heatmap columns correspond to the columns of the training data set. By calling `.isnull()` on the `DataFrame`, a matrix of Boolean values is generated. This is then plotted with a heatmap showing missing data (below)."
   ]
  },
  {
   "cell_type": "code",
   "execution_count": 51,
   "metadata": {},
   "outputs": [
    {
     "data": {
      "text/plain": [
       "<AxesSubplot:>"
      ]
     },
     "execution_count": 51,
     "metadata": {},
     "output_type": "execute_result"
    },
    {
     "data": {
      "image/png": "[encoded data removed]",
      "text/plain": [
       "<Figure size 432x288 with 1 Axes>"
      ]
     },
     "metadata": {
      "needs_background": "light"
     },
     "output_type": "display_data"
    }
   ],
   "source": [
    "sns.heatmap(data=titanic_train.isnull(), yticklabels=False, cbar=False)"
   ]
  },
  {
   "cell_type": "markdown",
   "metadata": {},
   "source": [
    "The above shows that the `Age` and `Cabin` columns have missing data. The proportion of missing data for each is:"
   ]
  },
  {
   "cell_type": "code",
   "execution_count": 52,
   "metadata": {},
   "outputs": [
    {
     "name": "stdout",
     "output_type": "stream",
     "text": [
      " Age missing proportion:  0.199 \n",
      " Cabin missing proportion:  0.771\n"
     ]
    }
   ],
   "source": [
    "age_proportion = sum(titanic_train['Age'].isnull()) / len(titanic_train['Age'])\n",
    "cabin_proportion = sum(titanic_train['Cabin'].isnull()) / len(titanic_train['Cabin'])\n",
    "print(\" Age missing proportion: \", np.round(age_proportion, decimals=3), \"\\n\",\n",
    "      \"Cabin missing proportion: \", np.round(cabin_proportion, decimals=3))"
   ]
  },
  {
   "cell_type": "markdown",
   "metadata": {},
   "source": [
    "There is a much larger proportion of missing cabin data than age data. The age missing proportion is amenable to filling in by imputation. Different imputation methods may change the performance of a trained algorithm. In order to assess these differences quickly and easily, we will start by training a simple logistic regression model as assessing its performance."
   ]
  },
  {
   "cell_type": "markdown",
   "metadata": {},
   "source": [
    "### Clean the data set<a id=\"clean-the-data-set\"></a>\n",
    "\n",
    "Remove columns that will not be used for training."
   ]
  },
  {
   "cell_type": "code",
   "execution_count": 53,
   "metadata": {},
   "outputs": [
    {
     "data": {
      "text/html": [
       "<div>\n",
       "<style scoped>\n",
       "    .dataframe tbody tr th:only-of-type {\n",
       "        vertical-align: middle;\n",
       "    }\n",
       "\n",
       "    .dataframe tbody tr th {\n",
       "        vertical-align: top;\n",
       "    }\n",
       "\n",
       "    .dataframe thead th {\n",
       "        text-align: right;\n",
       "    }\n",
       "</style>\n",
       "<table border=\"1\" class=\"dataframe\">\n",
       "  <thead>\n",
       "    <tr style=\"text-align: right;\">\n",
       "      <th></th>\n",
       "      <th>Survived</th>\n",
       "      <th>Pclass</th>\n",
       "      <th>Sex</th>\n",
       "      <th>Age</th>\n",
       "      <th>SibSp</th>\n",
       "      <th>Parch</th>\n",
       "      <th>Fare</th>\n",
       "      <th>Embarked</th>\n",
       "    </tr>\n",
       "  </thead>\n",
       "  <tbody>\n",
       "    <tr>\n",
       "      <th>0</th>\n",
       "      <td>0</td>\n",
       "      <td>3</td>\n",
       "      <td>male</td>\n",
       "      <td>22.0</td>\n",
       "      <td>1</td>\n",
       "      <td>0</td>\n",
       "      <td>7.2500</td>\n",
       "      <td>S</td>\n",
       "    </tr>\n",
       "    <tr>\n",
       "      <th>1</th>\n",
       "      <td>1</td>\n",
       "      <td>1</td>\n",
       "      <td>female</td>\n",
       "      <td>38.0</td>\n",
       "      <td>1</td>\n",
       "      <td>0</td>\n",
       "      <td>71.2833</td>\n",
       "      <td>C</td>\n",
       "    </tr>\n",
       "    <tr>\n",
       "      <th>2</th>\n",
       "      <td>1</td>\n",
       "      <td>3</td>\n",
       "      <td>female</td>\n",
       "      <td>26.0</td>\n",
       "      <td>0</td>\n",
       "      <td>0</td>\n",
       "      <td>7.9250</td>\n",
       "      <td>S</td>\n",
       "    </tr>\n",
       "    <tr>\n",
       "      <th>3</th>\n",
       "      <td>1</td>\n",
       "      <td>1</td>\n",
       "      <td>female</td>\n",
       "      <td>35.0</td>\n",
       "      <td>1</td>\n",
       "      <td>0</td>\n",
       "      <td>53.1000</td>\n",
       "      <td>S</td>\n",
       "    </tr>\n",
       "    <tr>\n",
       "      <th>4</th>\n",
       "      <td>0</td>\n",
       "      <td>3</td>\n",
       "      <td>male</td>\n",
       "      <td>35.0</td>\n",
       "      <td>0</td>\n",
       "      <td>0</td>\n",
       "      <td>8.0500</td>\n",
       "      <td>S</td>\n",
       "    </tr>\n",
       "  </tbody>\n",
       "</table>\n",
       "</div>"
      ],
      "text/plain": [
       "   Survived  Pclass     Sex   Age  SibSp  Parch     Fare Embarked\n",
       "0         0       3    male  22.0      1      0   7.2500        S\n",
       "1         1       1  female  38.0      1      0  71.2833        C\n",
       "2         1       3  female  26.0      0      0   7.9250        S\n",
       "3         1       1  female  35.0      1      0  53.1000        S\n",
       "4         0       3    male  35.0      0      0   8.0500        S"
      ]
     },
     "execution_count": 53,
     "metadata": {},
     "output_type": "execute_result"
    }
   ],
   "source": [
    "titanic_train_new = titanic_train.drop(['PassengerId', 'Name', 'Ticket', 'Cabin'], axis=1)\n",
    "titanic_train_new.head()"
   ]
  },
  {
   "cell_type": "markdown",
   "metadata": {},
   "source": [
    "The `Pclass`, `Sex`, and `Embarked` columns are categorical variables that need to be modified with dummy variables in order to train the logistic regression model."
   ]
  },
  {
   "cell_type": "code",
   "execution_count": 54,
   "metadata": {},
   "outputs": [],
   "source": [
    "titanic_train_new1 = pd.get_dummies(data=titanic_train_new, columns=['Pclass','Sex','Embarked'], \n",
    "                                   drop_first=True)"
   ]
  },
  {
   "cell_type": "code",
   "execution_count": 55,
   "metadata": {},
   "outputs": [],
   "source": [
    "titanic_train_new1['Pclass'] = titanic_train_new['Pclass']"
   ]
  },
  {
   "cell_type": "markdown",
   "metadata": {},
   "source": [
    "### Reassess missingness<a id=\"reassess-missingness\"></a>"
   ]
  },
  {
   "cell_type": "code",
   "execution_count": 56,
   "metadata": {},
   "outputs": [
    {
     "data": {
      "text/plain": [
       "<AxesSubplot:>"
      ]
     },
     "execution_count": 56,
     "metadata": {},
     "output_type": "execute_result"
    },
    {
     "data": {
      "image/png": "[encoded data removed]",
      "text/plain": [
       "<Figure size 432x288 with 1 Axes>"
      ]
     },
     "metadata": {
      "needs_background": "light"
     },
     "output_type": "display_data"
    }
   ],
   "source": [
    "sns.heatmap(data=titanic_train_new1.isnull(), yticklabels=False, cbar=False)"
   ]
  },
  {
   "cell_type": "markdown",
   "metadata": {},
   "source": [
    "### Different imputation methods<a id=\"different-imputation-methods\"></a>\n",
    "\n",
    "Three imputation methods will be used to generate three different data sets. Each of these subsequent data sets will then be used to train a model and predict on the held-out test data. Performance of the each model will be assessed to distinguish how each type of imputation affects model performance.\n",
    "\n",
    "Imputations methods:  \n",
    "1. [Simple mean imputation](#simple-mean-imputation)  \n",
    "2. [Imputation by mean age stratified by class](#imputation-by-mean-age-stratified-by-class)  \n",
    "4. [Nearest neighbors imputation&mdash;using `sklearn`](#knn-imputation)  \n",
    "3. [Multivariate feature imputation&mdash;experimental `sklearn` feature](#multivariate-feature-imputation)  \n",
    "\n",
    "\n",
    "Each imputation methods will have a different effect on the distribution of the original variable. This will be assessed using a simple histogram with an overlying kernel density estimate."
   ]
  },
  {
   "cell_type": "markdown",
   "metadata": {},
   "source": [
    "### Simple mean imputation<a id=\"simple-mean-imputation\"></a>\n",
    "Impute the age by inserting mean age."
   ]
  },
  {
   "cell_type": "markdown",
   "metadata": {},
   "source": [
    "Define a function to apply to the data frame."
   ]
  },
  {
   "cell_type": "code",
   "execution_count": 57,
   "metadata": {},
   "outputs": [],
   "source": [
    "def impute_mean(age):\n",
    "    if np.isnan(age):\n",
    "        return titanic_train_new1['Age'].mean()\n",
    "    else:\n",
    "        return age"
   ]
  },
  {
   "cell_type": "markdown",
   "metadata": {},
   "source": [
    "Apply the mean imputation function."
   ]
  },
  {
   "cell_type": "code",
   "execution_count": 58,
   "metadata": {},
   "outputs": [],
   "source": [
    "titanic_train_new1['age_mean_imputed'] = titanic_train_new1['Age'].apply(impute_mean)"
   ]
  },
  {
   "cell_type": "markdown",
   "metadata": {},
   "source": [
    "Plot the resulting imputation histogram."
   ]
  },
  {
   "cell_type": "code",
   "execution_count": 59,
   "metadata": {},
   "outputs": [
    {
     "data": {
      "text/plain": [
       "Text(0.5, 1.0, 'Mean Age Imputation')"
      ]
     },
     "execution_count": 59,
     "metadata": {},
     "output_type": "execute_result"
    },
    {
     "data": {
      "image/png": "[encoded data removed]",
      "text/plain": [
       "<Figure size 1080x360 with 2 Axes>"
      ]
     },
     "metadata": {
      "needs_background": "light"
     },
     "output_type": "display_data"
    }
   ],
   "source": [
    "fig, axs = plt.subplots(1, 2, figsize=(15,5), sharey=True)\n",
    "fig.suptitle('Kernel Density Estimates of Different Imputation Methods')\n",
    "\n",
    "sns.histplot(ax=axs[0], data=titanic_train_new1, x='Age', bins=30, kde=True)\n",
    "axs[0].set_title('Prior to Imputation')\n",
    "\n",
    "sns.histplot(ax=axs[1], data=titanic_train_new1, x='age_mean_imputed', bins=30, kde=True)\n",
    "axs[1].set_title('Mean Age Imputation')"
   ]
  },
  {
   "cell_type": "markdown",
   "metadata": {},
   "source": [
    "The mean imputed age obviously has a large number of age values at the mean age of about 29 years old. This significantly modifies the distribution of the variable, but there are no longer any missing values:"
   ]
  },
  {
   "cell_type": "code",
   "execution_count": 60,
   "metadata": {},
   "outputs": [
    {
     "data": {
      "text/plain": [
       "0"
      ]
     },
     "execution_count": 60,
     "metadata": {},
     "output_type": "execute_result"
    }
   ],
   "source": [
    "sum(titanic_train_new1['age_mean_imputed'].isnull())"
   ]
  },
  {
   "cell_type": "markdown",
   "metadata": {},
   "source": [
    "### Imputation by mean age stratified by class<a id=\"imputation-by-mean-age-stratified-by-class\"></a>\n",
    "The data can be stratified by passenger class. The mean age of each passenger class can the be used for a slightly more sophisticated method of imputation."
   ]
  },
  {
   "cell_type": "markdown",
   "metadata": {},
   "source": [
    "Define a function to impute the stratified mean age."
   ]
  },
  {
   "cell_type": "code",
   "execution_count": 61,
   "metadata": {},
   "outputs": [],
   "source": [
    "# compute the means for each pclass\n",
    "pclass_1_mean = titanic_train_new1[titanic_train_new1['Pclass']==1]['Age'].mean()\n",
    "pclass_2_mean = titanic_train_new1[titanic_train_new1['Pclass']==2]['Age'].mean()\n",
    "pclass_3_mean = titanic_train_new1[titanic_train_new1['Pclass']==3]['Age'].mean()\n",
    "\n",
    "# define the function to apply to the data frame\n",
    "def strat_mean_impute(class_age):\n",
    "    if np.isnan(class_age[1]):\n",
    "        if class_age[0] == 1:\n",
    "            return pclass_1_mean\n",
    "        elif class_age[0] == 2:\n",
    "            return pclass_2_mean\n",
    "        else:\n",
    "            return pclass_3_mean\n",
    "    else:\n",
    "        return class_age[1]"
   ]
  },
  {
   "cell_type": "markdown",
   "metadata": {},
   "source": [
    "Apply the by-class imputation function."
   ]
  },
  {
   "cell_type": "code",
   "execution_count": 62,
   "metadata": {},
   "outputs": [],
   "source": [
    "titanic_train_new1['age_class_imputed'] = titanic_train_new1[['Pclass', 'Age']].apply(strat_mean_impute, axis=1)"
   ]
  },
  {
   "cell_type": "code",
   "execution_count": 63,
   "metadata": {},
   "outputs": [
    {
     "data": {
      "text/plain": [
       "Text(0.5, 1.0, 'Class-stratified Age Imputation')"
      ]
     },
     "execution_count": 63,
     "metadata": {},
     "output_type": "execute_result"
    },
    {
     "data": {
      "image/png": "[encoded data removed]",
      "text/plain": [
       "<Figure size 1080x360 with 3 Axes>"
      ]
     },
     "metadata": {
      "needs_background": "light"
     },
     "output_type": "display_data"
    }
   ],
   "source": [
    "fig, axs = plt.subplots(1, 3, figsize=(15,5), sharey=True)\n",
    "fig.suptitle('Kernel Density Estimates of Different Imputation Methods')\n",
    "\n",
    "sns.histplot(ax=axs[0], data=titanic_train_new1, x='Age', bins=30, kde=True)\n",
    "axs[0].set_title('Prior to Imputation')\n",
    "\n",
    "sns.histplot(ax=axs[1], data=titanic_train_new1, x='age_mean_imputed', bins=30, kde=True)\n",
    "axs[1].set_title('Mean Age Imputation')\n",
    "\n",
    "sns.histplot(ax=axs[2], data=titanic_train_new1, x='age_class_imputed', bins=30, kde=True)\n",
    "axs[2].set_title('Class-stratified Age Imputation')"
   ]
  },
  {
   "cell_type": "code",
   "execution_count": 64,
   "metadata": {},
   "outputs": [
    {
     "data": {
      "text/plain": [
       "3    491\n",
       "1    216\n",
       "2    184\n",
       "Name: Pclass, dtype: int64"
      ]
     },
     "execution_count": 64,
     "metadata": {},
     "output_type": "execute_result"
    }
   ],
   "source": [
    "# number of passengers in each class\n",
    "titanic_train_new1['Pclass'].value_counts()"
   ]
  },
  {
   "cell_type": "code",
   "execution_count": 65,
   "metadata": {},
   "outputs": [
    {
     "data": {
      "text/plain": [
       "136"
      ]
     },
     "execution_count": 65,
     "metadata": {},
     "output_type": "execute_result"
    }
   ],
   "source": [
    "# number of missing values in the third class\n",
    "sum(titanic_train_new1[titanic_train_new1['Pclass']==3]['Age'].isnull())"
   ]
  },
  {
   "cell_type": "markdown",
   "metadata": {},
   "source": [
    "Though less pronounced, the class-stratified imputation of age still modifies the age distribution significantly. There is no longer as obvious a peak at the mean age, but because the majority of passengers were in 3rd class (n=491), there remains a large peak at the mean age of passengers in 3rd class as they also were the large majority of missing ages as well (n=136)."
   ]
  },
  {
   "cell_type": "markdown",
   "metadata": {},
   "source": [
    "### KNN imputation<a id=\"knn-imputation\"></a>"
   ]
  },
  {
   "cell_type": "code",
   "execution_count": 66,
   "metadata": {},
   "outputs": [],
   "source": [
    "from sklearn.impute import KNNImputer"
   ]
  },
  {
   "cell_type": "markdown",
   "metadata": {},
   "source": [
    "Instantiate the imputer."
   ]
  },
  {
   "cell_type": "code",
   "execution_count": 67,
   "metadata": {},
   "outputs": [],
   "source": [
    "knn_imputer = KNNImputer()"
   ]
  },
  {
   "cell_type": "markdown",
   "metadata": {},
   "source": [
    "<a id='above'></a>Because the KNN imputer fits a model to predict the missing values, the data frame for imputation must be the original data. Moreover, because the test data has missing `Age` values as well, those missing values must also be imputed. Therefore, the `Survived` and `Pclass` column will be removed before imputation is performed. The categorical variables will remain \"dummified\" because that is how they will be included when imputing the test data as well."
   ]
  },
  {
   "cell_type": "code",
   "execution_count": 68,
   "metadata": {},
   "outputs": [],
   "source": [
    "titanic_knn_impute = titanic_train_new1[['Age', 'SibSp', 'Parch', \n",
    "                                        'Fare', 'Pclass_2', 'Pclass_3', 'Sex_male', \n",
    "                                        'Embarked_Q', 'Embarked_S']]"
   ]
  },
  {
   "cell_type": "markdown",
   "metadata": {},
   "source": [
    "Generate an array of the data with the missing values filled in."
   ]
  },
  {
   "cell_type": "code",
   "execution_count": 69,
   "metadata": {},
   "outputs": [],
   "source": [
    "titanic_knn_imputed = knn_imputer.fit_transform(titanic_knn_impute)"
   ]
  },
  {
   "cell_type": "markdown",
   "metadata": {},
   "source": [
    "Recreate the data frame."
   ]
  },
  {
   "cell_type": "code",
   "execution_count": 70,
   "metadata": {},
   "outputs": [],
   "source": [
    "titanic_knn_imputed = pd.DataFrame(titanic_knn_imputed, columns=titanic_knn_impute.columns)"
   ]
  },
  {
   "cell_type": "markdown",
   "metadata": {},
   "source": [
    "Plot the age data."
   ]
  },
  {
   "cell_type": "code",
   "execution_count": 71,
   "metadata": {},
   "outputs": [
    {
     "data": {
      "text/plain": [
       "Text(0.5, 1.0, 'KNN Age Imputation')"
      ]
     },
     "execution_count": 71,
     "metadata": {},
     "output_type": "execute_result"
    },
    {
     "data": {
      "image/png": "[encoded data removed]",
      "text/plain": [
       "<Figure size 1080x360 with 3 Axes>"
      ]
     },
     "metadata": {
      "needs_background": "light"
     },
     "output_type": "display_data"
    }
   ],
   "source": [
    "fig, axs = plt.subplots(1, 3, figsize=(15,5), sharey=True)\n",
    "fig.suptitle('Kernel Density Estimates of Different Imputation Methods')\n",
    "\n",
    "sns.histplot(ax=axs[0], data=titanic_train_new1, x='Age', bins=30, kde=True)\n",
    "axs[0].set_title('Prior to Imputation')\n",
    "\n",
    "sns.histplot(ax=axs[1], data=titanic_train_new1, x='age_class_imputed', bins=30, kde=True)\n",
    "axs[1].set_title('Class-stratified Age Imputation')\n",
    "\n",
    "sns.histplot(ax=axs[2], data=titanic_knn_imputed, x='Age', bins=30, kde=True)\n",
    "axs[2].set_title('KNN Age Imputation')"
   ]
  },
  {
   "cell_type": "markdown",
   "metadata": {},
   "source": [
    "### Multivariate feature imputation<a id=\"multivariate-feature-imputation\"></a>\n",
    "This is an experimental feature in `sklearn`. There are several options for the estimator to use in order to perform the imputation:\n",
    "- **BayesianRidge:** regularized linear regression\n",
    "- **DecisionTreeRegressor:** non-linear regression\n",
    "- **ExtraTreesRegressor:** similar to missForest in R\n",
    "- **KNeighborsRegressor:** comparable to other KNN imputation approaches\n",
    "\n",
    "I am most familiar with the `missForest` package in `R`. Based on the <a href=https://scikit-learn.org/stable/auto_examples/impute/plot_iterative_imputer_variants_comparison.html#sphx-glr-auto-examples-impute-plot-iterative-imputer-variants-comparison-py>documentation</a>, the `ExtraTreesRegressor` is most similar. Therefore, the below is performed using this method."
   ]
  },
  {
   "cell_type": "code",
   "execution_count": 72,
   "metadata": {},
   "outputs": [],
   "source": [
    "from sklearn.experimental import enable_iterative_imputer\n",
    "from sklearn.impute import IterativeImputer"
   ]
  },
  {
   "cell_type": "markdown",
   "metadata": {},
   "source": [
    "As noted <a href=#above>above</a>, the data for the imputer must match the test data."
   ]
  },
  {
   "cell_type": "code",
   "execution_count": 73,
   "metadata": {},
   "outputs": [],
   "source": [
    "titanic_mv_impute = titanic_train_new1[['Age', 'SibSp', 'Parch', \n",
    "                                        'Fare', 'Pclass_2', 'Pclass_3', 'Sex_male', \n",
    "                                        'Embarked_Q', 'Embarked_S']]"
   ]
  },
  {
   "cell_type": "markdown",
   "metadata": {},
   "source": [
    "Perform Extra Trees regression to fill in the missing values."
   ]
  },
  {
   "cell_type": "code",
   "execution_count": 74,
   "metadata": {},
   "outputs": [],
   "source": [
    "from sklearn.ensemble import ExtraTreesRegressor"
   ]
  },
  {
   "cell_type": "markdown",
   "metadata": {},
   "source": [
    "Instantiate the imputer."
   ]
  },
  {
   "cell_type": "code",
   "execution_count": 75,
   "metadata": {},
   "outputs": [],
   "source": [
    "imp_tree = IterativeImputer(estimator=ExtraTreesRegressor(n_estimators=10, random_state=42))"
   ]
  },
  {
   "cell_type": "markdown",
   "metadata": {},
   "source": [
    "Fit the Extra Trees Regressor on the missing data."
   ]
  },
  {
   "cell_type": "code",
   "execution_count": 76,
   "metadata": {},
   "outputs": [
    {
     "data": {
      "text/plain": [
       "IterativeImputer(estimator=ExtraTreesRegressor(n_estimators=10,\n",
       "                                               random_state=42))"
      ]
     },
     "execution_count": 76,
     "metadata": {},
     "output_type": "execute_result"
    }
   ],
   "source": [
    "imp_tree.fit(X=titanic_mv_impute)"
   ]
  },
  {
   "cell_type": "markdown",
   "metadata": {},
   "source": [
    "Generate an array of the data with the missing values filled in."
   ]
  },
  {
   "cell_type": "code",
   "execution_count": 77,
   "metadata": {},
   "outputs": [],
   "source": [
    "titanic_tree_imputed = imp_tree.transform(X=titanic_mv_impute)"
   ]
  },
  {
   "cell_type": "markdown",
   "metadata": {},
   "source": [
    "Recreate the data frame."
   ]
  },
  {
   "cell_type": "code",
   "execution_count": 78,
   "metadata": {},
   "outputs": [],
   "source": [
    "titanic_tree_imputed = pd.DataFrame(titanic_tree_imputed, columns=titanic_mv_impute.columns)"
   ]
  },
  {
   "cell_type": "markdown",
   "metadata": {},
   "source": [
    "Plot the age data as above."
   ]
  },
  {
   "cell_type": "code",
   "execution_count": 79,
   "metadata": {},
   "outputs": [
    {
     "data": {
      "text/plain": [
       "Text(0.5, 1.0, 'Tree Age Imputation')"
      ]
     },
     "execution_count": 79,
     "metadata": {},
     "output_type": "execute_result"
    },
    {
     "data": {
      "image/png": "[encoded data removed]",
      "text/plain": [
       "<Figure size 1080x360 with 3 Axes>"
      ]
     },
     "metadata": {
      "needs_background": "light"
     },
     "output_type": "display_data"
    }
   ],
   "source": [
    "fig, axs = plt.subplots(1, 3, figsize=(15,5), sharey=True)\n",
    "fig.suptitle('Kernel Density Estimates of Different Imputation Methods')\n",
    "\n",
    "sns.histplot(ax=axs[0], data=titanic_train_new1, x='Age', bins=30, kde=True)\n",
    "axs[0].set_title('Prior to Imputation')\n",
    "\n",
    "sns.histplot(ax=axs[1], data=titanic_knn_imputed, x='Age', bins=30, kde=True)\n",
    "axs[1].set_title('KNN Age Imputation')\n",
    "\n",
    "sns.histplot(ax=axs[2], data=titanic_tree_imputed, x='Age', bins=30, kde=True)\n",
    "axs[2].set_title('Tree Age Imputation')"
   ]
  },
  {
   "cell_type": "markdown",
   "metadata": {},
   "source": [
    "It is clear by the above histograms and kernel density estimates that imputation using more sophisticated methods such as K-nearest neighbors or an ensemble tree-based method provides imputed values that are most consistent with the original data. The distribution of the tree-imputed ages is the most similar to that of the original data with missing values."
   ]
  },
  {
   "cell_type": "markdown",
   "metadata": {},
   "source": [
    "### Test data modification"
   ]
  },
  {
   "cell_type": "code",
   "execution_count": 80,
   "metadata": {},
   "outputs": [],
   "source": [
    "titanic_test.drop(columns=['PassengerId','Name','Cabin','Ticket'], inplace=True)"
   ]
  },
  {
   "cell_type": "code",
   "execution_count": 81,
   "metadata": {},
   "outputs": [],
   "source": [
    "titanic_test1 = pd.get_dummies(data=titanic_test, columns=['Embarked','Sex','Pclass'], drop_first=True)"
   ]
  },
  {
   "cell_type": "markdown",
   "metadata": {},
   "source": [
    "Assess for missing data."
   ]
  },
  {
   "cell_type": "code",
   "execution_count": 82,
   "metadata": {},
   "outputs": [
    {
     "data": {
      "text/plain": [
       "<AxesSubplot:>"
      ]
     },
     "execution_count": 82,
     "metadata": {},
     "output_type": "execute_result"
    },
    {
     "data": {
      "image/png": "[encoded data removed]",
      "text/plain": [
       "<Figure size 432x288 with 1 Axes>"
      ]
     },
     "metadata": {
      "needs_background": "light"
     },
     "output_type": "display_data"
    }
   ],
   "source": [
    "sns.heatmap(titanic_test1.isnull(), yticklabels=False, cbar=False)"
   ]
  },
  {
   "cell_type": "markdown",
   "metadata": {},
   "source": [
    "The test data also&mdash;unsurprisingly&mdash;has a similar proportion of missing data for age. Therefore, in order to fit the below logistic regression models, the test data needs to be preprocessed in a similar manner. There will, then, be four different test data sets:\n",
    "- A mean imputed data set\n",
    "- A class-stratified mean imputed data set\n",
    "- A KNN imputed data set\n",
    "- A tree imputed data set"
   ]
  },
  {
   "cell_type": "markdown",
   "metadata": {},
   "source": [
    "### Impute the missing data using four different methods"
   ]
  },
  {
   "cell_type": "code",
   "execution_count": 83,
   "metadata": {},
   "outputs": [
    {
     "data": {
      "text/plain": [
       "<AxesSubplot:xlabel='Age', ylabel='Count'>"
      ]
     },
     "execution_count": 83,
     "metadata": {},
     "output_type": "execute_result"
    },
    {
     "data": {
      "image/png": "[encoded data removed]",
      "text/plain": [
       "<Figure size 432x288 with 1 Axes>"
      ]
     },
     "metadata": {
      "needs_background": "light"
     },
     "output_type": "display_data"
    }
   ],
   "source": [
    "sns.histplot(data=titanic_test1, x='Age', bins=30, kde=True)"
   ]
  },
  {
   "cell_type": "markdown",
   "metadata": {},
   "source": [
    "#### Mean imputation\n",
    "Import the simple imputer to avoid creating another new function to impute the mean. This will also impute the mean fare for the one missing `Fare` value noted above."
   ]
  },
  {
   "cell_type": "code",
   "execution_count": 84,
   "metadata": {},
   "outputs": [],
   "source": [
    "from sklearn.impute import SimpleImputer"
   ]
  },
  {
   "cell_type": "code",
   "execution_count": 85,
   "metadata": {},
   "outputs": [],
   "source": [
    "imp_mean = SimpleImputer(strategy='mean')"
   ]
  },
  {
   "cell_type": "markdown",
   "metadata": {},
   "source": [
    "Impute missing data using the mean age."
   ]
  },
  {
   "cell_type": "code",
   "execution_count": 86,
   "metadata": {},
   "outputs": [],
   "source": [
    "titanic_test1_mean = pd.DataFrame(imp_mean.fit_transform(X=titanic_test1), columns=np.array(titanic_test1.columns))"
   ]
  },
  {
   "cell_type": "markdown",
   "metadata": {},
   "source": [
    "Plot the age data."
   ]
  },
  {
   "cell_type": "code",
   "execution_count": 87,
   "metadata": {},
   "outputs": [
    {
     "data": {
      "text/plain": [
       "Text(0.5, 1.0, 'Mean Age Imputation')"
      ]
     },
     "execution_count": 87,
     "metadata": {},
     "output_type": "execute_result"
    },
    {
     "data": {
      "image/png": "[encoded data removed]",
      "text/plain": [
       "<Figure size 1080x360 with 2 Axes>"
      ]
     },
     "metadata": {
      "needs_background": "light"
     },
     "output_type": "display_data"
    }
   ],
   "source": [
    "fig, axs = plt.subplots(1, 2, figsize=(15,5), sharey=True)\n",
    "fig.suptitle('Kernel Density Estimates of Different Imputation Methods - Test Data')\n",
    "\n",
    "sns.histplot(ax=axs[0], data=titanic_test1, x='Age', bins=30, kde=True)\n",
    "axs[0].set_title('Prior to Imputation')\n",
    "\n",
    "sns.histplot(ax=axs[1], data=titanic_test1_mean, x='Age', bins=30, kde=True)\n",
    "axs[1].set_title('Mean Age Imputation')"
   ]
  },
  {
   "cell_type": "markdown",
   "metadata": {},
   "source": [
    "#### Class-stratified imputation"
   ]
  },
  {
   "cell_type": "markdown",
   "metadata": {},
   "source": [
    "First, impute the only missing `Fare` value using the same class-stratified method."
   ]
  },
  {
   "cell_type": "code",
   "execution_count": 88,
   "metadata": {},
   "outputs": [],
   "source": [
    "titanic_test1_class = titanic_test1.copy()"
   ]
  },
  {
   "cell_type": "code",
   "execution_count": 89,
   "metadata": {},
   "outputs": [
    {
     "data": {
      "text/html": [
       "<div>\n",
       "<style scoped>\n",
       "    .dataframe tbody tr th:only-of-type {\n",
       "        vertical-align: middle;\n",
       "    }\n",
       "\n",
       "    .dataframe tbody tr th {\n",
       "        vertical-align: top;\n",
       "    }\n",
       "\n",
       "    .dataframe thead th {\n",
       "        text-align: right;\n",
       "    }\n",
       "</style>\n",
       "<table border=\"1\" class=\"dataframe\">\n",
       "  <thead>\n",
       "    <tr style=\"text-align: right;\">\n",
       "      <th></th>\n",
       "      <th>Age</th>\n",
       "      <th>SibSp</th>\n",
       "      <th>Parch</th>\n",
       "      <th>Fare</th>\n",
       "      <th>Embarked_Q</th>\n",
       "      <th>Embarked_S</th>\n",
       "      <th>Sex_male</th>\n",
       "      <th>Pclass_2</th>\n",
       "      <th>Pclass_3</th>\n",
       "    </tr>\n",
       "  </thead>\n",
       "  <tbody>\n",
       "    <tr>\n",
       "      <th>152</th>\n",
       "      <td>60.5</td>\n",
       "      <td>0</td>\n",
       "      <td>0</td>\n",
       "      <td>NaN</td>\n",
       "      <td>0</td>\n",
       "      <td>1</td>\n",
       "      <td>1</td>\n",
       "      <td>0</td>\n",
       "      <td>1</td>\n",
       "    </tr>\n",
       "  </tbody>\n",
       "</table>\n",
       "</div>"
      ],
      "text/plain": [
       "      Age  SibSp  Parch  Fare  Embarked_Q  Embarked_S  Sex_male  Pclass_2  \\\n",
       "152  60.5      0      0   NaN           0           1         1         0   \n",
       "\n",
       "     Pclass_3  \n",
       "152         1  "
      ]
     },
     "execution_count": 89,
     "metadata": {},
     "output_type": "execute_result"
    }
   ],
   "source": [
    "# find the missing fare value\n",
    "titanic_test1[np.isnan(titanic_test1['Fare'])]"
   ]
  },
  {
   "cell_type": "code",
   "execution_count": 90,
   "metadata": {},
   "outputs": [],
   "source": [
    "# the missing fare value has a passenger class of 3\n",
    "# compute the mean fare for class 3 passengers and substitute the missing value\n",
    "mean_class3_fare = titanic_test1[titanic_test['Pclass']==3]['Fare'].mean()\n",
    "titanic_test1_class.loc[152, 'Fare'] = mean_class3_fare"
   ]
  },
  {
   "cell_type": "code",
   "execution_count": 91,
   "metadata": {},
   "outputs": [],
   "source": [
    "# compute the means for each pclass\n",
    "pclass_1_mean = titanic_test1[titanic_test['Pclass']==1]['Age'].mean()\n",
    "pclass_2_mean = titanic_test1[titanic_test['Pclass']==2]['Age'].mean()\n",
    "pclass_3_mean = titanic_test1[titanic_test['Pclass']==3]['Age'].mean()\n",
    "\n",
    "# define the function to apply to the data frame\n",
    "def strat_mean_impute(class_age):\n",
    "    if np.isnan(class_age[1]):\n",
    "        if class_age[0] == 1:\n",
    "            return pclass_1_mean\n",
    "        elif class_age[0] == 2:\n",
    "            return pclass_2_mean\n",
    "        else:\n",
    "            return pclass_3_mean\n",
    "    else:\n",
    "        return class_age[1]"
   ]
  },
  {
   "cell_type": "markdown",
   "metadata": {},
   "source": [
    "Add the `Pclass` column back to perform the imputation."
   ]
  },
  {
   "cell_type": "code",
   "execution_count": 92,
   "metadata": {},
   "outputs": [],
   "source": [
    "titanic_test1_class['Pclass'] = titanic_test['Pclass']"
   ]
  },
  {
   "cell_type": "markdown",
   "metadata": {},
   "source": [
    "Impute the class-stratified ages."
   ]
  },
  {
   "cell_type": "code",
   "execution_count": 93,
   "metadata": {},
   "outputs": [],
   "source": [
    "titanic_test1_class['Age'] = titanic_test1_class[['Pclass', 'Age']].apply(strat_mean_impute, axis=1)"
   ]
  },
  {
   "cell_type": "markdown",
   "metadata": {},
   "source": [
    "Plot the histograms."
   ]
  },
  {
   "cell_type": "code",
   "execution_count": 94,
   "metadata": {},
   "outputs": [
    {
     "data": {
      "text/plain": [
       "Text(0.5, 1.0, 'Class-stratified Age Imputation')"
      ]
     },
     "execution_count": 94,
     "metadata": {},
     "output_type": "execute_result"
    },
    {
     "data": {
      "image/png": "[encoded data removed]",
      "text/plain": [
       "<Figure size 1080x360 with 3 Axes>"
      ]
     },
     "metadata": {
      "needs_background": "light"
     },
     "output_type": "display_data"
    }
   ],
   "source": [
    "fig, axs = plt.subplots(1, 3, figsize=(15,5), sharey=True)\n",
    "fig.suptitle('Kernel Density Estimates of Different Imputation Methods')\n",
    "\n",
    "sns.histplot(ax=axs[0], data=titanic_test1, x='Age', bins=30, kde=True)\n",
    "axs[0].set_title('Prior to Imputation')\n",
    "\n",
    "sns.histplot(ax=axs[1], data=titanic_test1_mean, x='Age', bins=30, kde=True)\n",
    "axs[1].set_title('Mean Age Imputation')\n",
    "\n",
    "sns.histplot(ax=axs[2], data=titanic_test1_class, x='Age', bins=30, kde=True)\n",
    "axs[2].set_title('Class-stratified Age Imputation')"
   ]
  },
  {
   "cell_type": "markdown",
   "metadata": {},
   "source": [
    "#### KNN imputation"
   ]
  },
  {
   "cell_type": "code",
   "execution_count": 95,
   "metadata": {},
   "outputs": [
    {
     "data": {
      "text/html": [
       "<div>\n",
       "<style scoped>\n",
       "    .dataframe tbody tr th:only-of-type {\n",
       "        vertical-align: middle;\n",
       "    }\n",
       "\n",
       "    .dataframe tbody tr th {\n",
       "        vertical-align: top;\n",
       "    }\n",
       "\n",
       "    .dataframe thead th {\n",
       "        text-align: right;\n",
       "    }\n",
       "</style>\n",
       "<table border=\"1\" class=\"dataframe\">\n",
       "  <thead>\n",
       "    <tr style=\"text-align: right;\">\n",
       "      <th></th>\n",
       "      <th>Age</th>\n",
       "      <th>SibSp</th>\n",
       "      <th>Parch</th>\n",
       "      <th>Fare</th>\n",
       "      <th>Embarked_Q</th>\n",
       "      <th>Embarked_S</th>\n",
       "      <th>Sex_male</th>\n",
       "      <th>Pclass_2</th>\n",
       "      <th>Pclass_3</th>\n",
       "    </tr>\n",
       "  </thead>\n",
       "  <tbody>\n",
       "    <tr>\n",
       "      <th>0</th>\n",
       "      <td>34.5</td>\n",
       "      <td>0</td>\n",
       "      <td>0</td>\n",
       "      <td>7.8292</td>\n",
       "      <td>1</td>\n",
       "      <td>0</td>\n",
       "      <td>1</td>\n",
       "      <td>0</td>\n",
       "      <td>1</td>\n",
       "    </tr>\n",
       "    <tr>\n",
       "      <th>1</th>\n",
       "      <td>47.0</td>\n",
       "      <td>1</td>\n",
       "      <td>0</td>\n",
       "      <td>7.0000</td>\n",
       "      <td>0</td>\n",
       "      <td>1</td>\n",
       "      <td>0</td>\n",
       "      <td>0</td>\n",
       "      <td>1</td>\n",
       "    </tr>\n",
       "    <tr>\n",
       "      <th>2</th>\n",
       "      <td>62.0</td>\n",
       "      <td>0</td>\n",
       "      <td>0</td>\n",
       "      <td>9.6875</td>\n",
       "      <td>1</td>\n",
       "      <td>0</td>\n",
       "      <td>1</td>\n",
       "      <td>1</td>\n",
       "      <td>0</td>\n",
       "    </tr>\n",
       "    <tr>\n",
       "      <th>3</th>\n",
       "      <td>27.0</td>\n",
       "      <td>0</td>\n",
       "      <td>0</td>\n",
       "      <td>8.6625</td>\n",
       "      <td>0</td>\n",
       "      <td>1</td>\n",
       "      <td>1</td>\n",
       "      <td>0</td>\n",
       "      <td>1</td>\n",
       "    </tr>\n",
       "    <tr>\n",
       "      <th>4</th>\n",
       "      <td>22.0</td>\n",
       "      <td>1</td>\n",
       "      <td>1</td>\n",
       "      <td>12.2875</td>\n",
       "      <td>0</td>\n",
       "      <td>1</td>\n",
       "      <td>0</td>\n",
       "      <td>0</td>\n",
       "      <td>1</td>\n",
       "    </tr>\n",
       "  </tbody>\n",
       "</table>\n",
       "</div>"
      ],
      "text/plain": [
       "    Age  SibSp  Parch     Fare  Embarked_Q  Embarked_S  Sex_male  Pclass_2  \\\n",
       "0  34.5      0      0   7.8292           1           0         1         0   \n",
       "1  47.0      1      0   7.0000           0           1         0         0   \n",
       "2  62.0      0      0   9.6875           1           0         1         1   \n",
       "3  27.0      0      0   8.6625           0           1         1         0   \n",
       "4  22.0      1      1  12.2875           0           1         0         0   \n",
       "\n",
       "   Pclass_3  \n",
       "0         1  \n",
       "1         1  \n",
       "2         0  \n",
       "3         1  \n",
       "4         1  "
      ]
     },
     "execution_count": 95,
     "metadata": {},
     "output_type": "execute_result"
    }
   ],
   "source": [
    "titanic_test1.head()"
   ]
  },
  {
   "cell_type": "markdown",
   "metadata": {},
   "source": [
    "Instantiate the imputer and impute the data."
   ]
  },
  {
   "cell_type": "code",
   "execution_count": 96,
   "metadata": {},
   "outputs": [],
   "source": [
    "knn_imputer = KNNImputer()\n",
    "titanic_test1_knn = knn_imputer.fit_transform(titanic_test1)"
   ]
  },
  {
   "cell_type": "code",
   "execution_count": 97,
   "metadata": {},
   "outputs": [],
   "source": [
    "titanic_test1_knn = pd.DataFrame(titanic_test1_knn, columns=titanic_test1.columns)"
   ]
  },
  {
   "cell_type": "code",
   "execution_count": 98,
   "metadata": {},
   "outputs": [
    {
     "data": {
      "text/plain": [
       "Text(0.5, 1.0, 'KNN Age Imputation')"
      ]
     },
     "execution_count": 98,
     "metadata": {},
     "output_type": "execute_result"
    },
    {
     "data": {
      "image/png": "[encoded data removed]",
      "text/plain": [
       "<Figure size 1080x360 with 3 Axes>"
      ]
     },
     "metadata": {
      "needs_background": "light"
     },
     "output_type": "display_data"
    }
   ],
   "source": [
    "fig, axs = plt.subplots(1, 3, figsize=(15,5), sharey=True)\n",
    "fig.suptitle('Kernel Density Estimates of Different Imputation Methods')\n",
    "\n",
    "sns.histplot(ax=axs[0], data=titanic_test1, x='Age', bins=30, kde=True)\n",
    "axs[0].set_title('Prior to Imputation')\n",
    "\n",
    "sns.histplot(ax=axs[1], data=titanic_test1_class, x='Age', bins=30, kde=True)\n",
    "axs[1].set_title('Class-stratified Age Imputation')\n",
    "\n",
    "sns.histplot(ax=axs[2], data=titanic_test1_knn, x='Age', bins=30, kde=True)\n",
    "axs[2].set_title('KNN Age Imputation')"
   ]
  },
  {
   "cell_type": "markdown",
   "metadata": {},
   "source": [
    "#### Tree imputation"
   ]
  },
  {
   "cell_type": "markdown",
   "metadata": {},
   "source": [
    "Instantiate the imputer and impute the data."
   ]
  },
  {
   "cell_type": "code",
   "execution_count": 99,
   "metadata": {},
   "outputs": [],
   "source": [
    "imp_tree = IterativeImputer(estimator=ExtraTreesRegressor(n_estimators=10, random_state=42))\n",
    "titanic_test1_tree = imp_tree.fit_transform(X=titanic_test1)"
   ]
  },
  {
   "cell_type": "code",
   "execution_count": 100,
   "metadata": {},
   "outputs": [],
   "source": [
    "titanic_test1_tree = pd.DataFrame(titanic_test1_tree, columns=titanic_test1.columns)"
   ]
  },
  {
   "cell_type": "code",
   "execution_count": 101,
   "metadata": {},
   "outputs": [
    {
     "data": {
      "text/plain": [
       "Text(0.5, 1.0, 'Tree Age Imputation')"
      ]
     },
     "execution_count": 101,
     "metadata": {},
     "output_type": "execute_result"
    },
    {
     "data": {
      "image/png": "[encoded data removed]",
      "text/plain": [
       "<Figure size 1080x360 with 3 Axes>"
      ]
     },
     "metadata": {
      "needs_background": "light"
     },
     "output_type": "display_data"
    }
   ],
   "source": [
    "fig, axs = plt.subplots(1, 3, figsize=(15,5), sharey=True)\n",
    "fig.suptitle('Kernel Density Estimates of Different Imputation Methods')\n",
    "\n",
    "sns.histplot(ax=axs[0], data=titanic_test1, x='Age', bins=30, kde=True)\n",
    "axs[0].set_title('Prior to Imputation')\n",
    "\n",
    "sns.histplot(ax=axs[1], data=titanic_test1_knn, x='Age', bins=30, kde=True)\n",
    "axs[1].set_title('KNN Age Imputation')\n",
    "\n",
    "sns.histplot(ax=axs[2], data=titanic_test1_tree, x='Age', bins=30, kde=True)\n",
    "axs[2].set_title('Tree Age Imputation')"
   ]
  },
  {
   "cell_type": "markdown",
   "metadata": {},
   "source": [
    "The tree-based imputation appears to maintain the bin count ratios more similar than the KNN-based imputation."
   ]
  },
  {
   "cell_type": "markdown",
   "metadata": {},
   "source": [
    "Reassess the missingness."
   ]
  },
  {
   "cell_type": "markdown",
   "metadata": {},
   "source": [
    "Original data:"
   ]
  },
  {
   "cell_type": "code",
   "execution_count": 102,
   "metadata": {},
   "outputs": [
    {
     "data": {
      "text/plain": [
       "<AxesSubplot:>"
      ]
     },
     "execution_count": 102,
     "metadata": {},
     "output_type": "execute_result"
    },
    {
     "data": {
      "image/png": "[encoded data removed]",
      "text/plain": [
       "<Figure size 432x288 with 1 Axes>"
      ]
     },
     "metadata": {
      "needs_background": "light"
     },
     "output_type": "display_data"
    }
   ],
   "source": [
    "sns.heatmap(data=titanic_test1.isnull(), yticklabels=False, cbar=False)"
   ]
  },
  {
   "cell_type": "code",
   "execution_count": 103,
   "metadata": {},
   "outputs": [
    {
     "data": {
      "image/png": "[encoded data removed]",
      "text/plain": [
       "<Figure size 1080x720 with 4 Axes>"
      ]
     },
     "metadata": {
      "needs_background": "light"
     },
     "output_type": "display_data"
    }
   ],
   "source": [
    "fig, axs = plt.subplots(2, 2, figsize=(15,10), sharey=True)\n",
    "\n",
    "sns.heatmap(ax=axs[0][0], data=titanic_test1_mean.isnull(), yticklabels=False, cbar=False)\n",
    "axs[0][0].set_title('Mean imputed')\n",
    "\n",
    "sns.heatmap(ax=axs[0][1], data=titanic_test1_class.isnull(), yticklabels=False, cbar=False)\n",
    "axs[0][1].set_title('Class-stratified mean imputed')\n",
    "\n",
    "sns.heatmap(ax=axs[1][0], data=titanic_test1_knn.isnull(), yticklabels=False, cbar=False)\n",
    "axs[1][0].set_title('KNN imputed')\n",
    "\n",
    "sns.heatmap(ax=axs[1][1], data=titanic_test1_tree.isnull(), yticklabels=False, cbar=False)\n",
    "axs[1][1].set_title('Tree imputed')\n",
    "\n",
    "plt.tight_layout()"
   ]
  },
  {
   "cell_type": "markdown",
   "metadata": {},
   "source": [
    "Create two data sets of mean imputed and class-stratified mean imputed Age columns that mirror the other training data frames."
   ]
  },
  {
   "cell_type": "code",
   "execution_count": 115,
   "metadata": {},
   "outputs": [
    {
     "name": "stderr",
     "output_type": "stream",
     "text": [
      "/tmp/ipykernel_38821/448827359.py:3: SettingWithCopyWarning: \n",
      "A value is trying to be set on a copy of a slice from a DataFrame\n",
      "\n",
      "See the caveats in the documentation: https://pandas.pydata.org/pandas-docs/stable/user_guide/indexing.html#returning-a-view-versus-a-copy\n",
      "  titanic_mean_imputed.rename(columns={'age_mean_imputed':'Age'}, inplace=True)\n",
      "/tmp/ipykernel_38821/448827359.py:8: SettingWithCopyWarning: \n",
      "A value is trying to be set on a copy of a slice from a DataFrame\n",
      "\n",
      "See the caveats in the documentation: https://pandas.pydata.org/pandas-docs/stable/user_guide/indexing.html#returning-a-view-versus-a-copy\n",
      "  titanic_class_imputed.rename(columns={'age_class_imputed':'Age'}, inplace=True)\n"
     ]
    }
   ],
   "source": [
    "titanic_mean_imputed = titanic_train_new1[['age_mean_imputed', 'SibSp', 'Parch', 'Fare', 'Pclass_2', \n",
    "                                            'Pclass_3', 'Sex_male', 'Embarked_Q', 'Embarked_S']]\n",
    "titanic_mean_imputed.rename(columns={'age_mean_imputed':'Age'}, inplace=True)\n",
    "\n",
    "\n",
    "titanic_class_imputed = titanic_train_new1[['age_class_imputed', 'SibSp', 'Parch', 'Fare', 'Pclass_2', \n",
    "                                            'Pclass_3', 'Sex_male', 'Embarked_Q', 'Embarked_S']]\n",
    "titanic_class_imputed.rename(columns={'age_class_imputed':'Age'}, inplace=True)"
   ]
  },
  {
   "cell_type": "markdown",
   "metadata": {},
   "source": [
    "All the missing values in the train and test data sets have been imputed using four methods.  \n",
    "| Imputation method           | Train data set name   | Test data set name  |\n",
    "|-----------------------------|-----------------------|---------------------|\n",
    "| Mean value                  | titanic_mean_imputed  | titanic_test1_mean  |\n",
    "| Class-stratified mean value | titanic_class_imputed | titanic_test1_class |\n",
    "| KNN                         | titanic_knn_imputed   | titanic_test1_knn   |\n",
    "| ExtraTreesRegressor         | titanic_tree_imputed  | titanic_test1_tree  |"
   ]
  },
  {
   "cell_type": "markdown",
   "metadata": {},
   "source": [
    "### Start model building<a id=\"start-model-building\"></a>"
   ]
  },
  {
   "cell_type": "markdown",
   "metadata": {},
   "source": [
    "As a reminder, these are the train and test data set names:  \n",
    "| Imputation method           | Train data set name   | Test data set name  |\n",
    "|-----------------------------|-----------------------|---------------------|\n",
    "| Mean value                  | titanic_mean_imputed  | titanic_test1_mean  |\n",
    "| Class-stratified mean value | titanic_class_imputed | titanic_test1_class |\n",
    "| KNN                         | titanic_knn_imputed   | titanic_test1_knn   |\n",
    "| ExtraTreesRegressor         | titanic_tree_imputed  | titanic_test1_tree  |"
   ]
  },
  {
   "cell_type": "markdown",
   "metadata": {},
   "source": [
    "### Logistic regression models<a id=logistic-regression-models></a>\n",
    "Import logistic regression."
   ]
  },
  {
   "cell_type": "code",
   "execution_count": null,
   "metadata": {},
   "outputs": [],
   "source": [
    "from sklearn.linear_model import LogisticRegression"
   ]
  },
  {
   "cell_type": "markdown",
   "metadata": {},
   "source": [
    "Instantiate a logistic regression model."
   ]
  },
  {
   "cell_type": "code",
   "execution_count": null,
   "metadata": {},
   "outputs": [],
   "source": [
    "log_model = LogisticRegression(solver='sag', max_iter=10000)"
   ]
  },
  {
   "cell_type": "markdown",
   "metadata": {},
   "source": [
    "Set up the data for model fitting."
   ]
  },
  {
   "cell_type": "code",
   "execution_count": null,
   "metadata": {},
   "outputs": [],
   "source": [
    "# get the y values\n",
    "target = titanic_train['Survived']"
   ]
  },
  {
   "cell_type": "code",
   "execution_count": null,
   "metadata": {},
   "outputs": [],
   "source": [
    "# get data frames for each imputed value\n",
    "X_mean = titanic_mean_imputed[['SibSp', 'Parch', 'Fare', 'Pclass_2', 'Pclass_3', \n",
    "                                'Sex_male', 'Embarked_Q', 'Embarked_S', 'age_mean_imputed']]\n",
    "X_mean.rename(columns={'age_mean_imputed':'Age'}, inplace=True)\n",
    "\n",
    "X_class = titanic_class_imputed[['SibSp', 'Parch', 'Fare', 'Pclass_2', 'Pclass_3', \n",
    "                                'Sex_male', 'Embarked_Q', 'Embarked_S', 'age_class_imputed']]\n",
    "X_class.rename(columns={'age_class_imputed':'Age'}, inplace=True)\n",
    "\n",
    "X_knn = titanic_knn_imputed[['SibSp', 'Parch', 'Fare', 'Pclass_2', 'Pclass_3', \n",
    "                             'Sex_male', 'Embarked_Q', 'Embarked_S', 'Age']]\n",
    "\n",
    "X_tree = titanic_tree_imputed[['SibSp', 'Parch', 'Fare', 'Pclass_2', 'Pclass_3', \n",
    "                               'Sex_male', 'Embarked_Q', 'Embarked_S', 'Age']]"
   ]
  },
  {
   "cell_type": "markdown",
   "metadata": {},
   "source": [
    "Fit on mean imputed data."
   ]
  },
  {
   "cell_type": "code",
   "execution_count": null,
   "metadata": {},
   "outputs": [],
   "source": [
    "log_model.fit(X=X_mean, y=target)"
   ]
  },
  {
   "cell_type": "code",
   "execution_count": null,
   "metadata": {},
   "outputs": [],
   "source": []
  },
  {
   "cell_type": "code",
   "execution_count": null,
   "metadata": {},
   "outputs": [],
   "source": [
    "log_model.predict(titanic_test)"
   ]
  }
 ],
 "metadata": {
  "interpreter": {
   "hash": "3bedc53bc48ccf3eeb03f97df6c038740ec5b8627554177c28957737749d6195"
  },
  "kernelspec": {
   "display_name": "Python 3 (ipykernel)",
   "language": "python",
   "name": "python3"
  },
  "language_info": {
   "codemirror_mode": {
    "name": "ipython",
    "version": 3
   },
   "file_extension": ".py",
   "mimetype": "text/x-python",
   "name": "python",
   "nbconvert_exporter": "python",
   "pygments_lexer": "ipython3",
   "version": "3.10.4"
  }
 },
 "nbformat": 4,
 "nbformat_minor": 2
}
